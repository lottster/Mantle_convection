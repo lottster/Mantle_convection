{
 "cells": [
  {
   "cell_type": "code",
   "execution_count": 12,
   "id": "c35cb243-b3bc-444f-aef6-73c908878569",
   "metadata": {},
   "outputs": [],
   "source": [
    "%matplotlib inline\n",
    "import numpy as np\n",
    "import matplotlib.pyplot as plt\n",
    "import h5py\n",
    "import glob"
   ]
  },
  {
   "cell_type": "markdown",
   "id": "3c6e7bac-5dfb-440c-b13b-3a3f859baaad",
   "metadata": {},
   "source": [
    "### Time series of run"
   ]
  },
  {
   "cell_type": "code",
   "execution_count": 7,
   "id": "336862c7-2314-40c2-b38d-02d9ae865b86",
   "metadata": {},
   "outputs": [],
   "source": [
    "data_path = 'Runs/Example_run/time.h5'"
   ]
  },
  {
   "cell_type": "code",
   "execution_count": 8,
   "id": "18adc145-676f-4c59-ad2f-7d383f8dc458",
   "metadata": {},
   "outputs": [],
   "source": [
    "data_file = h5py.File(data_path, 'r')\n",
    "ts = data_file['series']\n",
    "iterations = ts[:,0]\n",
    "time = ts[:,1]"
   ]
  },
  {
   "cell_type": "markdown",
   "id": "7f7fcd24-0c81-42ab-8eb9-6103672b8740",
   "metadata": {},
   "source": [
    "### Snapshots "
   ]
  },
  {
   "cell_type": "code",
   "execution_count": 20,
   "id": "ba7c9b6f-d44c-4cfa-8391-fe2ca2382ae3",
   "metadata": {},
   "outputs": [],
   "source": [
    "data_path = 'Runs/Example_run'\n",
    "snapshot_list = glob.glob(data_path + '/*.npz')\n",
    "snapshot_list.sort()"
   ]
  },
  {
   "cell_type": "code",
   "execution_count": 23,
   "id": "9183bf8f-9b81-4628-925a-52da80926c33",
   "metadata": {},
   "outputs": [],
   "source": [
    "# load certain/s snapshot from the list\n",
    "snapshot_data = np.load(snapshot_list[-1])\n",
    "temperature = snapshot_data['T']\n",
    "vx = snapshot_data['vx']\n",
    "vz = snapshot_data['vz']\n",
    "v = (vx**2+vz**2)**0.5\n",
    "p = snapshot_data['p']"
   ]
  },
  {
   "cell_type": "code",
   "execution_count": null,
   "id": "ae8fa2a9-ae70-44eb-b031-b5a36ff6e658",
   "metadata": {},
   "outputs": [],
   "source": []
  },
  {
   "cell_type": "code",
   "execution_count": null,
   "id": "a008ba7a-2dea-4c16-93a8-d49b606f461b",
   "metadata": {},
   "outputs": [],
   "source": []
  }
 ],
 "metadata": {
  "kernelspec": {
   "display_name": "Python 3 (ipykernel)",
   "language": "python",
   "name": "python3"
  },
  "language_info": {
   "codemirror_mode": {
    "name": "ipython",
    "version": 3
   },
   "file_extension": ".py",
   "mimetype": "text/x-python",
   "name": "python",
   "nbconvert_exporter": "python",
   "pygments_lexer": "ipython3",
   "version": "3.10.2"
  }
 },
 "nbformat": 4,
 "nbformat_minor": 5
}
