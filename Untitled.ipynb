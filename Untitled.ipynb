{
 "cells": [
  {
   "cell_type": "code",
   "execution_count": 4,
   "id": "c35cb243-b3bc-444f-aef6-73c908878569",
   "metadata": {},
   "outputs": [],
   "source": [
    "%matplotlib inline\n",
    "import numpy as np\n",
    "import matplotlib.pyplot as plt\n",
    "import h5py"
   ]
  },
  {
   "cell_type": "code",
   "execution_count": 7,
   "id": "336862c7-2314-40c2-b38d-02d9ae865b86",
   "metadata": {},
   "outputs": [],
   "source": [
    "data_path = 'output/time.h5'"
   ]
  },
  {
   "cell_type": "code",
   "execution_count": 8,
   "id": "18adc145-676f-4c59-ad2f-7d383f8dc458",
   "metadata": {},
   "outputs": [
    {
     "name": "stdout",
     "output_type": "stream",
     "text": [
      "<HDF5 file \"time.h5\" (mode r)>\n"
     ]
    }
   ],
   "source": [
    "data_file = h5py.File(data_path, 'r')\n",
    "print(data_file)\n"
   ]
  },
  {
   "cell_type": "code",
   "execution_count": null,
   "id": "49a0ac1d-cfbd-4cf8-bf38-f2f1efb8c167",
   "metadata": {},
   "outputs": [],
   "source": []
  }
 ],
 "metadata": {
  "kernelspec": {
   "display_name": "Python 3 (ipykernel)",
   "language": "python",
   "name": "python3"
  },
  "language_info": {
   "codemirror_mode": {
    "name": "ipython",
    "version": 3
   },
   "file_extension": ".py",
   "mimetype": "text/x-python",
   "name": "python",
   "nbconvert_exporter": "python",
   "pygments_lexer": "ipython3",
   "version": "3.10.2"
  }
 },
 "nbformat": 4,
 "nbformat_minor": 5
}
